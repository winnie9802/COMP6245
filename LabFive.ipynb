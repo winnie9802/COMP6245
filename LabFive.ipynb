{
  "nbformat": 4,
  "nbformat_minor": 0,
  "metadata": {
    "colab": {
      "name": "LabFive.ipynb",
      "provenance": [],
      "collapsed_sections": [],
      "authorship_tag": "ABX9TyM/zUUAaGPxfkEoWzDAt2Ic",
      "include_colab_link": true
    },
    "kernelspec": {
      "name": "python3",
      "display_name": "Python 3"
    },
    "language_info": {
      "name": "python"
    }
  },
  "cells": [
    {
      "cell_type": "markdown",
      "metadata": {
        "id": "view-in-github",
        "colab_type": "text"
      },
      "source": [
        "<a href=\"https://colab.research.google.com/github/winnie9802/COMP6245/blob/main/LabFive.ipynb\" target=\"_parent\"><img src=\"https://colab.research.google.com/assets/colab-badge.svg\" alt=\"Open In Colab\"/></a>"
      ]
    },
    {
      "cell_type": "code",
      "metadata": {
        "colab": {
          "base_uri": "https://localhost:8080/",
          "height": 263
        },
        "id": "Txlp4Vo-fghz",
        "outputId": "f1d567c8-fbf5-4b1e-c8c7-9cf6cf038197"
      },
      "source": [
        "#原始代码\n",
        "import numpy as np\n",
        "import matplotlib.pyplot as plt\n",
        "\n",
        "from sklearn import datasets\n",
        "from sklearn.linear_model import LinearRegression\n",
        "\n",
        "diabetes = datasets.load_diabetes()\n",
        "X = diabetes.data #数据\n",
        "y = diabetes.target #标签\n",
        "\n",
        "def gaussian(x,u,sigma): #对原始数据进行sigma的变换\n",
        "  return(np.exp(-0.5*np.linalg.norm(x-u)/sigma))\n",
        "\n",
        "N, p = X.shape\n",
        "print(N,p)\n",
        "\n",
        "#Space for design matrix\n",
        "#\n",
        "M = 200\n",
        "U = np.zeros([N,M])\n",
        "#Basis function locations at random\n",
        "#\n",
        "C = np.random.randn(M,p)\n",
        "#Basis function range as distance between two random data\n",
        "#\n",
        "x1 = X[np.floor(np.random.rand()*N).astype(int),:]\n",
        "x2 = X[np.floor(np.random.rand()*N).astype(int),:]\n",
        "sigma = np.linalg.norm(x1-x2)\n",
        "\n",
        "#Construct the design matrix\n",
        "#\n",
        "for i in range(N):\n",
        "  for j in range(M):\n",
        "    U[i,j] = gaussian(X[i,:],C[j,:],sigma)\n",
        "\n",
        "#Pseudo inverse for linear part\n",
        "#\n",
        "#U = np.c_[U,np.ones([N,1])]\n",
        "l = np.linalg.inv(U.T @ U) @ U.T @ y\n",
        "\n",
        "#Predicted values on training data\n",
        "#\n",
        "\n",
        "yh = U @ l\n",
        "fig, ax = plt.subplots(figsize=(3,3))\n",
        "ax.scatter(y, yh, c='m', s=3)\n",
        "ax.grid(True)\n",
        "ax.set_title(\"Training Set\", fontsize=14)\n",
        "ax.set_xlabel(\"True Target\", fontsize=12)\n",
        "ax.set_ylabel(\"Prediction\", fontsize=12)\n",
        "plt.savefig('pic for Q1.jpg')"
      ],
      "execution_count": null,
      "outputs": [
        {
          "output_type": "stream",
          "name": "stdout",
          "text": [
            "442 10\n"
          ]
        },
        {
          "output_type": "display_data",
          "data": {
            "image/png": "[encoded data removed]",
            "text/plain": [
              "<Figure size 216x216 with 1 Axes>"
            ]
          },
          "metadata": {
            "needs_background": "light"
          }
        }
      ]
    },
    {
      "cell_type": "code",
      "metadata": {
        "colab": {
          "base_uri": "https://localhost:8080/",
          "height": 300
        },
        "id": "I40E_LpDfmNq",
        "outputId": "769e900b-36ae-485c-82c3-b5c87c37793b"
      },
      "source": [
        "#第二题代码\n",
        "import numpy as np\n",
        "import matplotlib.pyplot as plt\n",
        "from sklearn import preprocessing\n",
        "from sklearn import datasets\n",
        "from sklearn.linear_model import LinearRegression\n",
        "from sklearn.model_selection import train_test_split\n",
        "\n",
        "diabetes = datasets.load_diabetes()\n",
        "X = diabetes.data\n",
        "X = preprocessing.scale(X) #使对于每个属性/每列来说所有数据都聚集在0附近，方差为1\n",
        "\n",
        "\n",
        "y = diabetes.target\n",
        "X_train, X_test, y_train, y_test = train_test_split(X, y, test_size=0.3)\n",
        "\n",
        "def gaussian(x,u,sigma):\n",
        "  return(np.exp(-0.5*np.linalg.norm(x-u)/sigma))\n",
        "\n",
        "N, p = X_train.shape\n",
        "print(N,p)\n",
        "MSEset = []\n",
        "#for M in range(0,300):\n",
        "  #Space for design matrix\n",
        "  #\n",
        "M = 200\n",
        "U = np.zeros([N,M])\n",
        "#Basis function locations at random\n",
        "#为RBF生成中心点\n",
        "C = np.random.randn(M,p)\n",
        "\n",
        "from sklearn.cluster import KMeans\n",
        "kmeans = KMeans(n_clusters=M).fit(X_train)\n",
        "C = kmeans.cluster_centers_\n",
        "\n",
        "      #Basis function range as distance between two random data\n",
        "      #\n",
        "      # x1 = X[np.floor(np.random.rand()*N).astype(int),:]\n",
        "      # x2 = X[np.floor(np.random.rand()*N).astype(int),:]\n",
        "      # sigma = np.linalg.norm(x1-x2)\n",
        "      #算几对数的平均值\n",
        "\n",
        "pairnum = 10\n",
        "singleValue = []\n",
        "for i in range(pairnum*2):\n",
        "  singleValue.append(X_train[np.floor(np.random.rand()*N).astype(int),:])\n",
        "\n",
        "avgSum = 0\n",
        "for i in range(pairnum):\n",
        "  avgSum = avgSum + np.linalg.norm(singleValue[i*2]-singleValue[i*2+1])\n",
        "\n",
        "sigma = avgSum/pairnum\n",
        "\n",
        "      #Construct the design matrix\n",
        "      #\n",
        "for i in range(N):\n",
        "  for j in range(M):\n",
        "    U[i,j] = gaussian(X_train[i,:],C[j,:],sigma)\n",
        "      #预测训练集\n",
        "      #Pseudo inverse for linear part\n",
        "      #\n",
        "      #U = np.c_[U,np.ones([N,1])]\n",
        "l = np.linalg.inv(U.T @ U) @ U.T @ y_train\n",
        "\n",
        "      #Predicted values on training data\n",
        "      #\n",
        "yh = U @ l\n",
        "      #预测测试集\n",
        "N2 = np.size(X_test,0)\n",
        "U2 = np.zeros([N2,M])\n",
        "for i in range(N2):\n",
        "  for j in range(M):\n",
        "    U2[i,j] = gaussian(X_test[i,:],C[j,:],sigma)\n",
        "yh_test = U2 @ l\n",
        "MSE = np.sum(np.square(y_test-yh_test))/N2\n",
        "MSEset.append(MSE)\n",
        "\n",
        "# plt.plot(range(0,300),MSEset)\n",
        "# r = np.where(MSEset == np.max(MSEset))\n",
        "# r2 = np.where(MSEset == np.min(MSEset))\n",
        "\n",
        "# plt.text(r[0][0], np.max(MSEset), round(np.max(MSEset)))\n",
        "# plt.text(r2[0][0], np.min(MSEset), round(np.min(MSEset)))\n",
        "from sklearn.linear_model import LinearRegression\n",
        "\n",
        "model = LinearRegression()\n",
        "model.fit(X_train,y_train)\n",
        "box3 = model.predict(X_test)\n",
        "box2 = yh_test\n",
        "plt.figure()\n",
        "box1 = y_test\n",
        "plt.boxplot([box1,box2,box3],labels=['y_test','RBF_y','LR_y'])\n",
        "plt.title(\"RBF and Linear Regression Models boxplots\")\n",
        "plt.grid(True)\n",
        "# plt.figure(1)\n",
        "# fig, ax = plt.subplots(nrows = 1, ncols = 2, figsize=(9,4))\n",
        "# ax[0].scatter(y_train, yh, c='m', s=3)\n",
        "# ax[0].grid(True)\n",
        "# ax[0].set_title(\"Training Set\", fontsize=14)\n",
        "# ax[0].set_xlabel(\"True Target\", fontsize=12)\n",
        "# ax[0].set_ylabel(\"Prediction\", fontsize=12)\n",
        "\n",
        "# ax[1].scatter(y_test, yh_test, c='b', s=3)\n",
        "# print(\"MSE:\",np.sum(np.square(y_test-yh_test))/N2)\n",
        "# ax[1].grid(True)\n",
        "# ax[1].set_title(\"Test Set\", fontsize=14)\n",
        "# ax[1].set_xlabel(\"True Target\", fontsize=12)\n",
        "# ax[1].set_ylabel(\"Prediction\", fontsize=12)\n",
        "# plt.savefig('pic for Q2（正则化后，改变sigma对数，kmeans）.jpg')"
      ],
      "execution_count": null,
      "outputs": [
        {
          "output_type": "stream",
          "name": "stdout",
          "text": [
            "309 10\n"
          ]
        },
        {
          "output_type": "display_data",
          "data": {
            "image/png": "[encoded data removed]",
            "text/plain": [
              "<Figure size 432x288 with 1 Axes>"
            ]
          },
          "metadata": {
            "needs_background": "light"
          }
        }
      ]
    },
    {
      "cell_type": "code",
      "metadata": {
        "colab": {
          "base_uri": "https://localhost:8080/"
        },
        "id": "tNBntRZdejox",
        "outputId": "a2c17d0e-092a-4cfc-9b33-e330508a778c"
      },
      "source": [
        "print(r[0][0])\n",
        "print(r2[0][0])"
      ],
      "execution_count": null,
      "outputs": [
        {
          "output_type": "stream",
          "name": "stdout",
          "text": [
            "298\n",
            "19\n"
          ]
        }
      ]
    },
    {
      "cell_type": "code",
      "metadata": {
        "id": "RwgBYe0qoMV6"
      },
      "source": [
        ""
      ],
      "execution_count": null,
      "outputs": []
    },
    {
      "cell_type": "code",
      "metadata": {
        "colab": {
          "base_uri": "https://localhost:8080/",
          "height": 283
        },
        "id": "uLAzvDqkceoZ",
        "outputId": "32cf3b3f-f38d-4f42-fba4-ae1b70b51202"
      },
      "source": [
        "plt.plot(range(200,310),MSEset)"
      ],
      "execution_count": null,
      "outputs": [
        {
          "output_type": "execute_result",
          "data": {
            "text/plain": [
              "[<matplotlib.lines.Line2D at 0x7feae91d9d10>]"
            ]
          },
          "metadata": {},
          "execution_count": 5
        },
        {
          "output_type": "display_data",
          "data": {
            "image/png": "[encoded data removed]",
            "text/plain": [
              "<Figure size 432x288 with 1 Axes>"
            ]
          },
          "metadata": {
            "needs_background": "light"
          }
        }
      ]
    },
    {
      "cell_type": "code",
      "metadata": {
        "id": "Z41O6N4cei7I"
      },
      "source": [
        ""
      ],
      "execution_count": null,
      "outputs": []
    },
    {
      "cell_type": "code",
      "metadata": {
        "colab": {
          "base_uri": "https://localhost:8080/"
        },
        "id": "qC5Ikw8PmZca",
        "outputId": "f6b53f5f-bf74-4111-de18-2d01425768f4"
      },
      "source": [
        "#三种方式都加上了的\n",
        "import numpy as np\n",
        "import matplotlib.pyplot as plt\n",
        "from sklearn import preprocessing\n",
        "from sklearn import datasets\n",
        "from sklearn.linear_model import LinearRegression\n",
        "from sklearn.model_selection import train_test_split\n",
        "\n",
        "diabetes = datasets.load_diabetes()\n",
        "X = diabetes.data\n",
        "X = preprocessing.scale(X) #对于每个属性/每列来说所有数据都聚集在0附近，方差为1\n",
        "y = diabetes.target\n",
        "from sklearn.model_selection import KFold  \n",
        "import numpy as np  \n",
        "#train_index 表示的是训练集的序号，test_index表示的是测试集的序号\n",
        "\n",
        "kf = KFold(n_splits=10,shuffle=False)  \n",
        "MSEset = []\n",
        "for train_index , test_index in kf.split(X):  \n",
        "  #print('train_index:%s , test_index: %s ' %(train_index,test_index)) \n",
        "\n",
        "  X_train = X[train_index, :]\n",
        "  y_train = y[train_index]\n",
        "  X_test = X[test_index, :]\n",
        "  y_test = y[test_index]\n",
        "\n",
        "  #X_train, X_test, y_train, y_test = train_test_split(X, y, test_size=0.3)\n",
        "\n",
        "  def gaussian(x,u,sigma):\n",
        "    return(np.exp(-0.5*np.linalg.norm(x-u)/sigma))\n",
        "\n",
        "  N, p = X_train.shape\n",
        "  print(N,p)\n",
        "\n",
        "  #Space for design matrix\n",
        "  #\n",
        "  M = 200\n",
        "  U = np.zeros([N,M])\n",
        "  #Basis function locations at random\n",
        "  #\n",
        "  #C = np.random.randn(M,p)\n",
        "  from sklearn.cluster import KMeans\n",
        "  kmeans = KMeans(n_clusters=M).fit(X_train)\n",
        "  C = kmeans.cluster_centers_\n",
        "  #Basis function range as distance between two random data\n",
        "  #\n",
        "\n",
        "  #算几对数的平均值\n",
        "  pairnum = 10\n",
        "  singleValue = []\n",
        "  for i in range(pairnum*2):\n",
        "    singleValue.append(X_train[np.floor(np.random.rand()*N).astype(int),:])\n",
        "\n",
        "  avgSum = 0\n",
        "  for i in range(pairnum):\n",
        "    avgSum = avgSum + np.linalg.norm(singleValue[i*2]-singleValue[i*2+1])\n",
        "\n",
        "\n",
        "  sigma = avgSum/pairnum\n",
        "\n",
        "  #Construct the design matrix\n",
        "  #\n",
        "  for i in range(N):\n",
        "    for j in range(M):\n",
        "      U[i,j] = gaussian(X_train[i,:],C[j,:],sigma)\n",
        "  #预测训练集\n",
        "  #Pseudo inverse for linear part\n",
        "  #\n",
        "  #U = np.c_[U,np.ones([N,1])]\n",
        "  l = np.linalg.inv(U.T @ U) @ U.T @ y_train\n",
        "\n",
        "  #Predicted values on training data\n",
        "  #\n",
        "  yh = U @ l\n",
        "  #预测测试集\n",
        "  N2 = np.size(X_test,0)\n",
        "  U2 = np.zeros([N2,M])\n",
        "  for i in range(N2):\n",
        "    for j in range(M):\n",
        "      U2[i,j] = gaussian(X_test[i,:],C[j,:],sigma)\n",
        "  yh_test = U2 @ l\n",
        "\n",
        "  # plt.figure(1)\n",
        "  # fig, ax = plt.subplots(nrows = 1, ncols = 2, figsize=(9,4))\n",
        "  # ax[0].scatter(y_train, yh, c='m', s=3)\n",
        "  # ax[0].grid(True)\n",
        "  # ax[0].set_title(\"Training Set\", fontsize=14)\n",
        "  # ax[0].set_xlabel(\"True Target\", fontsize=12)\n",
        "  # ax[0].set_ylabel(\"Prediction\", fontsize=12)\n",
        "\n",
        "  # ax[1].scatter(y_test, yh_test, c='b', s=3)\n",
        "  MSE = np.sum(np.square(y_test-yh_test))/N2\n",
        "  MSEset.append(MSE)\n",
        "  print(\"MSE:\", MSE)\n",
        "  # ax[1].grid(True)\n",
        "  # ax[1].set_title(\"Test Set\", fontsize=14)\n",
        "  # ax[1].set_xlabel(\"True Target\", fontsize=12)\n",
        "  # ax[1].set_ylabel(\"Prediction\", fontsize=12)\n",
        "  # plt.savefig('pic for Q2.jpg')\n",
        "\n",
        "print(np.mean(MSEset))\n",
        "print(np.std(MSEset))"
      ],
      "execution_count": null,
      "outputs": [
        {
          "output_type": "stream",
          "name": "stdout",
          "text": [
            "397 10\n",
            "MSE: 3922.2921779639564\n",
            "397 10\n",
            "MSE: 2734.200017813645\n",
            "398 10\n",
            "MSE: 3564.34517581504\n",
            "398 10\n",
            "MSE: 3227.261652766851\n",
            "398 10\n",
            "MSE: 3452.798804342204\n",
            "398 10\n",
            "MSE: 3375.4039140961568\n",
            "398 10\n",
            "MSE: 4017.4946915350306\n",
            "398 10\n",
            "MSE: 2394.3005944051324\n",
            "398 10\n",
            "MSE: 4130.155317553404\n",
            "398 10\n",
            "MSE: 2193.995369130263\n",
            "3301.224771542168\n",
            "637.1074303750947\n"
          ]
        }
      ]
    },
    {
      "cell_type": "code",
      "metadata": {
        "colab": {
          "base_uri": "https://localhost:8080/"
        },
        "id": "XJyU10ZHtEg4",
        "outputId": "e9401e8b-084e-4b1d-8376-883974a0b08e"
      },
      "source": [
        ""
      ],
      "execution_count": null,
      "outputs": [
        {
          "output_type": "stream",
          "name": "stdout",
          "text": [
            "train_index:[ 3  4  5  6  7  8  9 10 11] , test_index: [0 1 2] \n",
            "train_index:[ 0  1  2  6  7  8  9 10 11] , test_index: [3 4 5] \n",
            "train_index:[ 0  1  2  3  4  5  8  9 10 11] , test_index: [6 7] \n",
            "train_index:[ 0  1  2  3  4  5  6  7 10 11] , test_index: [8 9] \n",
            "train_index:[0 1 2 3 4 5 6 7 8 9] , test_index: [10 11] \n"
          ]
        }
      ]
    },
    {
      "cell_type": "code",
      "metadata": {
        "colab": {
          "base_uri": "https://localhost:8080/",
          "height": 548
        },
        "id": "R9clNSm29aqG",
        "outputId": "9a021d81-2a9e-4b75-889b-767b788c31f6"
      },
      "source": [
        "#第二题代码\n",
        "import numpy as np\n",
        "import matplotlib.pyplot as plt\n",
        "from sklearn import preprocessing\n",
        "from sklearn import datasets\n",
        "from sklearn.linear_model import LinearRegression\n",
        "from sklearn.model_selection import train_test_split\n",
        "\n",
        "diabetes = datasets.load_diabetes()\n",
        "X = diabetes.data\n",
        "X = preprocessing.scale(X) #对于每个属性/每列来说所有数据都聚集在0附近，方差为1\n",
        "\n",
        "\n",
        "y = diabetes.target\n",
        "X_train, X_test, y_train, y_test = train_test_split(X, y, test_size=0.3)\n",
        "\n",
        "def gaussian(x,u,sigma):\n",
        "  return(np.exp(-0.5*np.linalg.norm(x-u)/sigma))\n",
        "\n",
        "N, p = X_train.shape\n",
        "print(N,p)\n",
        "MSEset = []\n",
        "MSEset2 = []\n",
        "for M in range(0,300):\n",
        "  #Space for design matrix\n",
        "  #\n",
        "#M = 200\n",
        "  U = np.zeros([N,M])\n",
        "  #Basis function locations at random\n",
        "  #\n",
        "  C = np.random.randn(M,p)\n",
        "\n",
        "  #from sklearn.cluster import KMeans\n",
        "  #kmeans = KMeans(n_clusters=M).fit(X_train)\n",
        "  #C = kmeans.cluster_centers_\n",
        "\n",
        "        #Basis function range as distance between two random data\n",
        "        #\n",
        "        # x1 = X[np.floor(np.random.rand()*N).astype(int),:]\n",
        "        # x2 = X[np.floor(np.random.rand()*N).astype(int),:]\n",
        "        # sigma = np.linalg.norm(x1-x2)\n",
        "        #算几对数的平均值\n",
        "\n",
        "  pairnum = 10\n",
        "  singleValue = []\n",
        "  for i in range(pairnum*2):\n",
        "    singleValue.append(X_train[np.floor(np.random.rand()*N).astype(int),:])\n",
        "\n",
        "  avgSum = 0\n",
        "  for i in range(pairnum):\n",
        "    avgSum = avgSum + np.linalg.norm(singleValue[i*2]-singleValue[i*2+1])\n",
        "    sigma = avgSum/pairnum\n",
        "\n",
        "        #Construct the design matrix\n",
        "        #\n",
        "  for i in range(N):\n",
        "    for j in range(M):\n",
        "      U[i,j] = gaussian(X_train[i,:],C[j,:],sigma)\n",
        "        #预测训练集\n",
        "        #Pseudo inverse for linear part\n",
        "        #\n",
        "        #U = np.c_[U,np.ones([N,1])]\n",
        "  l = np.linalg.inv(U.T @ U) @ U.T @ y_train\n",
        "\n",
        "        #Predicted values on training data\n",
        "        #\n",
        "  yh = U @ l\n",
        "        #预测测试集\n",
        "  N2 = np.size(X_test,0)\n",
        "  U2 = np.zeros([N2,M])\n",
        "  for i in range(N2):\n",
        "    for j in range(M):\n",
        "      U2[i,j] = gaussian(X_test[i,:],C[j,:],sigma)\n",
        "  yh_test = U2 @ l\n",
        "  MSE = np.sum(np.square(y_test-yh_test))/N2\n",
        "  MSE2 = np.sum(np.square(y_train-yh))/N\n",
        "  MSEset.append(MSE)\n",
        "  MSEset2.append(MSE2)\n",
        "\n",
        "plt.plot(range(0,300),MSEset)\n",
        "r = np.where(MSEset == np.max(MSEset))\n",
        "r2 = np.where(MSEset == np.min(MSEset))\n",
        "\n",
        "plt.plot(range(0,300),MSEset2)\n",
        "#r = np.where(MSEset2 == np.max(MSEset2))\n",
        "#r2 = np.where(MSEset2 == np.min(MSEset2))\n",
        "\n",
        "plt.text(r[0][0], np.max(MSEset), round(np.max(MSEset)))\n",
        "plt.text(r2[0][0], np.min(MSEset), round(np.min(MSEset)))\n",
        "from sklearn.linear_model import LinearRegression\n",
        "\n",
        "model = LinearRegression()\n",
        "model.fit(X_train,y_train)\n",
        "box3 = model.predict(X_test)\n",
        "box2 = yh_test\n",
        "plt.figure()\n",
        "box1 = y_test\n",
        "plt.boxplot([box1,box2,box3],labels=['y_test','RBF_y','LR_y'])\n",
        "plt.title(\"RBF and Linear Regression Models boxplots\")\n",
        "plt.grid(True)\n",
        "# plt.figure(1)\n",
        "# fig, ax = plt.subplots(nrows = 1, ncols = 2, figsize=(9,4))\n",
        "# ax[0].scatter(y_train, yh, c='m', s=3)\n",
        "# ax[0].grid(True)\n",
        "# ax[0].set_title(\"Training Set\", fontsize=14)\n",
        "# ax[0].set_xlabel(\"True Target\", fontsize=12)\n",
        "# ax[0].set_ylabel(\"Prediction\", fontsize=12)\n",
        "\n",
        "# ax[1].scatter(y_test, yh_test, c='b', s=3)\n",
        "# print(\"MSE:\",np.sum(np.square(y_test-yh_test))/N2)\n",
        "# ax[1].grid(True)\n",
        "# ax[1].set_title(\"Test Set\", fontsize=14)\n",
        "# ax[1].set_xlabel(\"True Target\", fontsize=12)\n",
        "# ax[1].set_ylabel(\"Prediction\", fontsize=12)\n",
        "# plt.savefig('pic for Q2（正则化后，改变sigma对数，kmeans）.jpg')"
      ],
      "execution_count": null,
      "outputs": [
        {
          "output_type": "stream",
          "name": "stdout",
          "text": [
            "309 10\n"
          ]
        },
        {
          "output_type": "display_data",
          "data": {
            "image/png": "[encoded data removed]",
            "text/plain": [
              "<Figure size 432x288 with 1 Axes>"
            ]
          },
          "metadata": {
            "needs_background": "light"
          }
        },
        {
          "output_type": "display_data",
          "data": {
            "image/png": "[encoded data removed]",
            "text/plain": [
              "<Figure size 432x288 with 1 Axes>"
            ]
          },
          "metadata": {
            "needs_background": "light"
          }
        }
      ]
    },
    {
      "cell_type": "code",
      "metadata": {
        "colab": {
          "base_uri": "https://localhost:8080/",
          "height": 531
        },
        "id": "V8qAbNi1FyOW",
        "outputId": "6ec27d09-0db1-4579-d473-7f27a4aa1987"
      },
      "source": [
        "plt.figure()\n",
        "plt.plot(range(0,300),MSEset)\n",
        "plt.figure()\n",
        "plt.plot(range(0,300),MSEset2)\n",
        "\n",
        "r = np.where(MSEset == np.max(MSEset))\n",
        "print()\n",
        "r2 = np.where(MSEset == np.min(MSEset))"
      ],
      "execution_count": null,
      "outputs": [
        {
          "output_type": "execute_result",
          "data": {
            "text/plain": [
              "[<matplotlib.lines.Line2D at 0x7f68a2bad710>]"
            ]
          },
          "metadata": {},
          "execution_count": 6
        },
        {
          "output_type": "display_data",
          "data": {
            "image/png": "[encoded data removed]",
            "text/plain": [
              "<Figure size 432x288 with 1 Axes>"
            ]
          },
          "metadata": {
            "needs_background": "light"
          }
        },
        {
          "output_type": "display_data",
          "data": {
            "image/png": "[encoded data removed]",
            "text/plain": [
              "<Figure size 432x288 with 1 Axes>"
            ]
          },
          "metadata": {
            "needs_background": "light"
          }
        }
      ]
    }
  ]
}